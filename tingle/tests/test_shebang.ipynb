{
 "cells": [
  {
   "cell_type": "markdown",
   "metadata": {},
   "source": [
    "# shebang headers in literate programs."
   ]
  },
  {
   "cell_type": "markdown",
   "metadata": {},
   "source": [
    "`tingle` documents can begin with a shebang that provide instructions\n",
    "on how to run a document as a program. `tingle` shebangs may look like\n",
    "\n",
    "    #!/usr/bin/env tingle\n",
    "    #!/usr/bin/env -S tingle\n",
    "    #!/usr/bin/env -S tingle --weave\n",
    "    #!/usr/bin/env -S tingle --no-main\n",
    "    "
   ]
  },
  {
   "cell_type": "code",
   "execution_count": 1,
   "metadata": {},
   "outputs": [],
   "source": [
    "    import IPython, tingle, pathlib\n",
    "    from IPython import get_ipython\n",
    "    ip = get_ipython()"
   ]
  },
  {
   "cell_type": "markdown",
   "metadata": {},
   "source": [
    "The `\"testtemplate.md\"` begins with a shebang that includes in the `\"--weave\"` which applies transclusion before showing the rendered output."
   ]
  },
  {
   "cell_type": "code",
   "execution_count": 2,
   "metadata": {},
   "outputs": [
    {
     "data": {
      "text/plain": [
       "'#!/usr/bin/env -S tingle --weave'"
      ]
     },
     "execution_count": 2,
     "metadata": {},
     "output_type": "execute_result"
    }
   ],
   "source": [
    "        (\n",
    "            pathlib.Path(tingle.__file__).parent\n",
    "            / \"tests\" / \"testtemplate.md\"\n",
    "        ).read_text().splitlines()[0]"
   ]
  },
  {
   "cell_type": "code",
   "execution_count": 3,
   "metadata": {},
   "outputs": [
    {
     "name": "stdout",
     "output_type": "stream",
     "text": [
      "This program, named \u001b[33m`#__main__`\u001b[39;49;00m has the value _42_ for foo.\n",
      "\n"
     ]
    }
   ],
   "source": [
    "    if ip:\n",
    "        !chmod +x testtemplate.md\n",
    "        !./testtemplate.md"
   ]
  },
  {
   "cell_type": "code",
   "execution_count": 4,
   "metadata": {},
   "outputs": [
    {
     "name": "stdout",
     "output_type": "stream",
     "text": [
      "This program, named \u001b[33m`#testtemplate.md`\u001b[39;49;00m has the value _42_ for foo.\n",
      "\n"
     ]
    }
   ],
   "source": [
    "    if ip:\n",
    "        !./testtemplate.md --no-main"
   ]
  }
 ],
 "metadata": {
  "kernelspec": {
   "display_name": "Python 3",
   "language": "python",
   "name": "python3"
  },
  "language_info": {
   "codemirror_mode": {
    "name": "ipython",
    "version": 3
   },
   "file_extension": ".py",
   "mimetype": "text/x-python",
   "name": "python",
   "nbconvert_exporter": "python",
   "pygments_lexer": "ipython3",
   "version": "3.7.7"
  }
 },
 "nbformat": 4,
 "nbformat_minor": 4
}

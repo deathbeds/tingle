{
 "cells": [
  {
   "cell_type": "markdown",
   "metadata": {},
   "source": [
    "# using the `tingle and tingle.weave` extensions."
   ]
  },
  {
   "cell_type": "markdown",
   "metadata": {},
   "source": [
    "turn on Markdown first programming mode. this only affects the tangle phase\n",
    "of the repl, it does not effect the output."
   ]
  },
  {
   "cell_type": "code",
   "execution_count": 1,
   "metadata": {},
   "outputs": [],
   "source": [
    "    %load_ext tingle"
   ]
  },
  {
   "cell_type": "code",
   "execution_count": 2,
   "metadata": {},
   "outputs": [],
   "source": [
    "with `tingle` mode invoked, cell inputs expect markdown input. even a cell without code, like this one,\n",
    "is converted to a python string expression."
   ]
  },
  {
   "cell_type": "code",
   "execution_count": 3,
   "metadata": {},
   "outputs": [],
   "source": [
    "heuristics are applied when `tingle` encounters code blocks in markdown or rst \n",
    "to convert the document language into compiled python."
   ]
  },
  {
   "cell_type": "markdown",
   "metadata": {},
   "source": [
    "## weaving the cell output."
   ]
  },
  {
   "cell_type": "code",
   "execution_count": 4,
   "metadata": {},
   "outputs": [
    {
     "data": {
      "text/markdown": [
       "`tingle` provides a minimal opinion for weaving cell outputs into formatted Markdown output.\n",
       "\n",
       "    %load_ext tingle.weave"
      ],
      "text/plain": [
       "<IPython.core.display.Markdown object>"
      ]
     },
     "metadata": {},
     "output_type": "display_data"
    }
   ],
   "source": [
    "`tingle` provides a minimal opinion for weaving cell outputs into formatted Markdown output.\n",
    "\n",
    "    %load_ext tingle.weave"
   ]
  },
  {
   "cell_type": "code",
   "execution_count": 5,
   "metadata": {},
   "outputs": [
    {
     "data": {
      "text/markdown": [
       "    shell = get_ipython()"
      ],
      "text/plain": [
       "<IPython.core.display.Markdown object>"
      ]
     },
     "metadata": {},
     "output_type": "display_data"
    }
   ],
   "source": [
    "    shell = get_ipython()"
   ]
  },
  {
   "cell_type": "code",
   "execution_count": 6,
   "metadata": {},
   "outputs": [
    {
     "data": {
      "text/markdown": [
       "    %unload_ext tingle"
      ],
      "text/plain": [
       "<IPython.core.display.Markdown object>"
      ]
     },
     "metadata": {},
     "output_type": "display_data"
    }
   ],
   "source": [
    "    %unload_ext tingle"
   ]
  },
  {
   "cell_type": "code",
   "execution_count": 7,
   "metadata": {},
   "outputs": [
    {
     "name": "stdout",
     "output_type": "stream",
     "text": [
      "# cells are back to python first\n"
     ]
    },
    {
     "data": {
      "text/markdown": [
       "##### back to normal\n",
       "\n",
       "print(\"# cells are back to python first\")\n",
       "\n",
       "###### funny how comments can feel like yelling."
      ],
      "text/plain": [
       "<IPython.core.display.Markdown object>"
      ]
     },
     "metadata": {},
     "output_type": "display_data"
    }
   ],
   "source": [
    "##### back to normal\n",
    "\n",
    "print(\"# cells are back to python first\")\n",
    "\n",
    "###### funny how comments can feel like yelling."
   ]
  },
  {
   "cell_type": "code",
   "execution_count": 8,
   "metadata": {},
   "outputs": [],
   "source": [
    "    %unload_ext tingle.weave"
   ]
  },
  {
   "cell_type": "code",
   "execution_count": 9,
   "metadata": {},
   "outputs": [
    {
     "data": {
      "text/plain": [
       "'At this point, where are completely back to the standard `IPython` tangle and weave conventions.'"
      ]
     },
     "execution_count": 9,
     "metadata": {},
     "output_type": "execute_result"
    }
   ],
   "source": [
    "\"At this point, where are completely back to the standard `IPython` tangle and weave conventions.\""
   ]
  },
  {
   "cell_type": "code",
   "execution_count": 10,
   "metadata": {},
   "outputs": [
    {
     "data": {
      "text/markdown": [
       "    # enter back into the extensions\n",
       "    %load_ext tingle\n",
       "    %load_ext tingle.weave\n",
       "    # the shows in the output as code because the registered post_run_cell is invoked."
      ],
      "text/plain": [
       "<IPython.core.display.Markdown object>"
      ]
     },
     "metadata": {},
     "output_type": "display_data"
    }
   ],
   "source": [
    "    # enter back into the extensions\n",
    "    %load_ext tingle\n",
    "    %load_ext tingle.weave\n",
    "    # the shows in the output as code because the registered post_run_cell is invoked."
   ]
  },
  {
   "cell_type": "markdown",
   "metadata": {},
   "source": [
    "### transclusion"
   ]
  },
  {
   "cell_type": "code",
   "execution_count": 11,
   "metadata": {},
   "outputs": [
    {
     "data": {
      "text/markdown": [
       "in `tingle`'s minimal weaving process it does provide templating capabilities. provided by either\n",
       "`nbconvert` or `jinja2`."
      ],
      "text/plain": [
       "<IPython.core.display.Markdown object>"
      ]
     },
     "metadata": {},
     "output_type": "display_data"
    }
   ],
   "source": [
    "in `tingle`'s minimal weaving process it does provide templating capabilities. provided by either\n",
    "`nbconvert` or `jinja2`."
   ]
  },
  {
   "cell_type": "code",
   "execution_count": 12,
   "metadata": {},
   "outputs": [
    {
     "data": {
      "text/markdown": [
       "the value of `a_variable` is _the following markdown._. we are able to \n",
       "transclude data from the user namespace into the output of the markdown cells\n",
       "    \n",
       "    a_variable=\\\n",
       "the following markdown."
      ],
      "text/plain": [
       "<IPython.core.display.Markdown object>"
      ]
     },
     "metadata": {},
     "output_type": "display_data"
    }
   ],
   "source": [
    "the value of `a_variable` is _{{a_variable}}_. we are able to \n",
    "transclude data from the user namespace into the output of the markdown cells\n",
    "    \n",
    "    a_variable=\\\n",
    "the following markdown."
   ]
  },
  {
   "cell_type": "markdown",
   "metadata": {},
   "source": [
    "## markdown first programming\n",
    "\n",
    "`tingle` and literate computing concepts modify some of the conventional affordances of the notebook.\n",
    "typically notebooks are written in separate document and programming languages. while in literate computing\n",
    "the document language and narrative are paramount. as a result, markdown cells represent code that is off and code cells represent active code.\n",
    "\n",
    "> ###### author note\n",
    "> i've taken always indenting blocks of code in cells so that their representation is the same as a markdown or code cell. this conventional is acceptable overlaps between notebook mode and `tingle`."
   ]
  }
 ],
 "metadata": {
  "kernelspec": {
   "display_name": "Python 3",
   "language": "python",
   "name": "python3"
  },
  "language_info": {
   "codemirror_mode": {
    "name": "ipython",
    "version": 3
   },
   "file_extension": ".py",
   "mimetype": "text/x-python",
   "name": "python",
   "nbconvert_exporter": "python",
   "pygments_lexer": "ipython3",
   "version": "3.7.7"
  }
 },
 "nbformat": 4,
 "nbformat_minor": 4
}

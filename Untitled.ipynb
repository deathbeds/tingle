{
 "cells": [
  {
   "cell_type": "code",
   "execution_count": 1,
   "metadata": {},
   "outputs": [],
   "source": [
    "    from poser import *"
   ]
  },
  {
   "cell_type": "code",
   "execution_count": 2,
   "metadata": {},
   "outputs": [
    {
     "data": {
      "text/plain": [
       "'/home/tonyfast/Documents/tingle'"
      ]
     },
     "execution_count": 2,
     "metadata": {},
     "output_type": "execute_result"
    }
   ],
   "source": [
    "    pwd"
   ]
  },
  {
   "cell_type": "code",
   "execution_count": 5,
   "metadata": {},
   "outputs": [],
   "source": [
    "    import pathlib"
   ]
  },
  {
   "cell_type": "code",
   "execution_count": 4,
   "metadata": {},
   "outputs": [
    {
     "name": "stdout",
     "output_type": "stream",
     "text": [
      "{'footnotes': {'refs': {':basdf': -1}}, 'references': {'FOO': {'title': '', 'href': 'http://something', 'map': [7, 8]}, 'BAR': {'title': '', 'href': 'unnn', 'map': [8, 9]}}}\n",
      "{'footnotes': {'refs': {':basdf': -1}}, 'references': {'FOO': {'title': '', 'href': 'http://something', 'map': [7, 8]}, 'BAR': {'title': '', 'href': 'unnn', 'map': [8, 9]}}, 'foot_refs': {}} {}\n"
     ]
    },
    {
     "data": {
      "text/plain": [
       "[<document: <paragraph...>>, <paragraph: >]"
      ]
     },
     "execution_count": 4,
     "metadata": {},
     "output_type": "execute_result"
    }
   ],
   "source": [
    "    import tingle\n",
    "\n",
    "    (tingle.md.md2docutils(\"\"\"Testing [a] [foo]\n",
    "    d\n",
    "            \n",
    "    \n",
    "    \n",
    "    [^basdf]: crap this is a demo\n",
    "    \n",
    "    [foo]: http://something\n",
    "    [bar]: unnn\n",
    "    \"\"\").traverse())"
   ]
  },
  {
   "cell_type": "code",
   "execution_count": 10,
   "metadata": {},
   "outputs": [
    {
     "data": {
      "text/plain": [
       "{'core': ['normalize', 'block', 'footnote_tail'],\n",
       " 'block': ['front_matter',\n",
       "  'table',\n",
       "  'doctest',\n",
       "  'code',\n",
       "  'fence',\n",
       "  'blockquote',\n",
       "  'hr',\n",
       "  'list',\n",
       "  'footnote_def',\n",
       "  'reference',\n",
       "  'heading',\n",
       "  'lheading',\n",
       "  'html_block',\n",
       "  'paragraph'],\n",
       " 'inline': ['text',\n",
       "  'newline',\n",
       "  'escape',\n",
       "  'backticks',\n",
       "  'emphasis',\n",
       "  'link',\n",
       "  'image',\n",
       "  'footnote_inline',\n",
       "  'footnote_ref',\n",
       "  'autolink',\n",
       "  'html_inline',\n",
       "  'entity'],\n",
       " 'inline2': ['balance_pairs', 'emphasis', 'text_collapse']}"
      ]
     },
     "execution_count": 10,
     "metadata": {},
     "output_type": "execute_result"
    }
   ],
   "source": [
    "    tingle.md.markdown.get_active"
   ]
  },
  {
   "cell_type": "code",
   "execution_count": 1,
   "metadata": {},
   "outputs": [
    {
     "data": {
      "application/json": {
       "a conflicting list of markdown": "\n* list beginning with star conflict with yaml * `> and |` must be used to refer to the trailing markdown as block strings.\n",
       "foo": {
        "bar": 10,
        "baz": 20
       },
       "list_of_markdown": [
        "first thing",
        "second thing"
       ],
       "numbered lists are opaque to yaml": "1. an opaque list item",
       "plus lists are opaque to yaml": "+ this is just a string.",
       "some key": "some value"
      },
      "text/plain": [
       "<IPython.core.display.JSON object>"
      ]
     },
     "metadata": {
      "application/json": {
       "expanded": false,
       "root": "/home/tonyfast/Documents/tingle/tingle/testyml.yml.md"
      }
     },
     "output_type": "display_data"
    }
   ],
   "source": [
    "    import tingle\n",
    "\n",
    "    with tingle.loaders.YAML():\n",
    "        import tingle.testyml\n",
    "\n",
    "    tingle.testyml"
   ]
  },
  {
   "cell_type": "code",
   "execution_count": 1,
   "metadata": {},
   "outputs": [
    {
     "data": {
      "text/plain": [
       "{'rawsource': '',\n",
       " 'children': [],\n",
       " 'attributes': {'ids': [],\n",
       "  'classes': [],\n",
       "  'names': [],\n",
       "  'dupnames': [],\n",
       "  'backrefs': []},\n",
       " 'tagname': 'transition',\n",
       " 'line': 1,\n",
       " 'source': 'notset',\n",
       " 'parent': <document: <transition...><paragraph...><transition...><paragraph.. ...>,\n",
       " 'document': <document: <transition...><paragraph...><transition...><paragraph.. ...>}"
      ]
     },
     "execution_count": 1,
     "metadata": {},
     "output_type": "execute_result"
    }
   ],
   "source": [
    "    import tingle\n",
    "\n",
    "    vars(tingle.md.md2docutils(\"\"\"---\n",
    "    a: 10\n",
    "    \n",
    "    ---\n",
    "    \n",
    "    \n",
    "    asdf\n",
    "    \n",
    "    asdfad\n",
    "    \n",
    "    \n",
    "    \"\"\").traverse()[1])"
   ]
  },
  {
   "cell_type": "code",
   "execution_count": 6,
   "metadata": {},
   "outputs": [
    {
     "name": "stdout",
     "output_type": "stream",
     "text": [
      "False         a:\n",
      "\n",
      "False         b: |\n",
      "\n",
      "True         #\n",
      "\n",
      "False         c: \n",
      "\n",
      "False         d: \n",
      "\n",
      "True         #\n",
      "\n",
      "{'a': 'This is a start', 'b': '* a\\n* b\\n', 'c': ['a', 'b'], 'd': '+ a + b'}\n"
     ]
    }
   ],
   "source": [
    "    import tingle\n",
    "\n",
    "    print(    __import__('yaml').safe_load(tingle.yml.md2yml(\"\"\"\n",
    "    \n",
    "            a:\n",
    "            \n",
    "    This is a start\n",
    "    s\n",
    "            b: |\n",
    "    * a\n",
    "    * b\n",
    "    \n",
    "            #\n",
    "    star lists don't work because they conflict with yaml aliases.\n",
    "    \n",
    "            c: \n",
    "    - a\n",
    "    - b\n",
    "    \n",
    "            d: \n",
    "    + a\n",
    "    + b\n",
    "    \n",
    "            #\n",
    "    THis is a comment\n",
    "    \"\"\")))"
   ]
  },
  {
   "cell_type": "code",
   "execution_count": 1,
   "metadata": {},
   "outputs": [],
   "source": [
    "    import tingle"
   ]
  },
  {
   "cell_type": "code",
   "execution_count": 14,
   "metadata": {},
   "outputs": [
    {
     "name": "stdout",
     "output_type": "stream",
     "text": [
      "Writing testlityml.yml.md\n"
     ]
    }
   ],
   "source": [
    "    %%file testlityml.yml.md\n",
    "    Everything in the begninngin gis a comment\n",
    "        body:\n",
    "        \n",
    "    this markdown\n",
    "\n",
    "\n",
    "        whatever: >\n",
    "        \n",
    "    More markdown\n",
    "    \n",
    "        list:\n",
    "        \n",
    "    - a \n",
    "    - b"
   ]
  },
  {
   "cell_type": "code",
   "execution_count": 17,
   "metadata": {},
   "outputs": [],
   "source": [
    "    with tingle.loaders.Yaml():\n",
    "        import testyml"
   ]
  },
  {
   "cell_type": "code",
   "execution_count": 10,
   "metadata": {},
   "outputs": [
    {
     "data": {
      "text/markdown": [
       "Everything in the begninngin gis a comment\n",
       "    body:\n",
       "    \n",
       "this markdown\n",
       "\n",
       "\n",
       "    whatever: >\n",
       "    \n",
       "More markdown\n",
       "\n",
       "    list:\n",
       "    \n",
       "- a \n",
       "- b \n",
       "\n",
       "\n"
      ],
      "text/plain": [
       "<IPython.core.display.Markdown object>"
      ]
     },
     "execution_count": 10,
     "metadata": {},
     "output_type": "execute_result"
    }
   ],
   "source": [
    "    import IPython;\n",
    "    IPython.display.Markdown(s)"
   ]
  },
  {
   "cell_type": "code",
   "execution_count": 12,
   "metadata": {},
   "outputs": [],
   "source": [
    "    import yaml"
   ]
  },
  {
   "cell_type": "code",
   "execution_count": 13,
   "metadata": {},
   "outputs": [
    {
     "name": "stdout",
     "output_type": "stream",
     "text": [
      "False     whatever: >\n",
      "\n",
      "False     list:\n",
      "\n"
     ]
    },
    {
     "data": {
      "text/plain": [
       "{'whatever': '\\nMore markdown\\n', 'list': ['a', 'b']}"
      ]
     },
     "execution_count": 13,
     "metadata": {},
     "output_type": "execute_result"
    }
   ],
   "source": [
    "    yaml.safe_load(tingle.yml.md2yml(s))"
   ]
  },
  {
   "cell_type": "code",
   "execution_count": 2,
   "metadata": {},
   "outputs": [
    {
     "name": "stdout",
     "output_type": "stream",
     "text": [
      "Overwriting testjson.json\n"
     ]
    }
   ],
   "source": [
    "    %%file testjson.json\n",
    "    {\"foo\": 20}"
   ]
  },
  {
   "cell_type": "code",
   "execution_count": 1,
   "metadata": {},
   "outputs": [
    {
     "name": "stdout",
     "output_type": "stream",
     "text": [
      "Writing testyml.yml\n"
     ]
    }
   ],
   "source": [
    "    %%file testyml.yml\n",
    "    {\"foo\": 20}"
   ]
  },
  {
   "cell_type": "code",
   "execution_count": 4,
   "metadata": {},
   "outputs": [
    {
     "data": {
      "application/json": {
       "foo": 20
      },
      "text/plain": [
       "<IPython.core.display.JSON object>"
      ]
     },
     "metadata": {
      "application/json": {
       "expanded": false,
       "root": "/home/tonyfast/Documents/tingle/testyml.yml"
      }
     },
     "output_type": "display_data"
    }
   ],
   "source": [
    "    with __import__(\"tingle\").loaders.Yaml():\n",
    "        import testyml\n",
    "\n",
    "    testyml"
   ]
  },
  {
   "cell_type": "code",
   "execution_count": 3,
   "metadata": {},
   "outputs": [
    {
     "data": {
      "application/json": {
       "foo": 20
      },
      "text/plain": [
       "<IPython.core.display.JSON object>"
      ]
     },
     "metadata": {
      "application/json": {
       "expanded": false,
       "root": "/home/tonyfast/Documents/tingle/testjson.json"
      }
     },
     "output_type": "display_data"
    }
   ],
   "source": [
    "    with __import__(\"tingle\").loaders.JSON():\n",
    "        import testjson\n",
    "\n",
    "    testjson"
   ]
  },
  {
   "cell_type": "code",
   "execution_count": 1,
   "metadata": {},
   "outputs": [],
   "source": [
    "    with __import__(\"tingle\").loaders.Markdown():\n",
    "        import tingle.testmd"
   ]
  },
  {
   "cell_type": "code",
   "execution_count": 3,
   "metadata": {},
   "outputs": [
    {
     "data": {
      "text/plain": [
       "['__name__',\n",
       " '__doc__',\n",
       " '__package__',\n",
       " '__loader__',\n",
       " '__spec__',\n",
       " '__file__',\n",
       " '__builtins__',\n",
       " 'tingle',\n",
       " 'blocks_of_narrative',\n",
       " 'explicit_block',\n",
       " 'tight_explicit_block',\n",
       " 'tight_paren_block',\n",
       " 'a_noop_function',\n",
       " 'a_useful_function',\n",
       " 'AClass',\n",
       " '__test__',\n",
       " '_ipython_display_']"
      ]
     },
     "execution_count": 3,
     "metadata": {},
     "output_type": "execute_result"
    }
   ],
   "source": [
    "    list(vars(tingle.testmd))"
   ]
  },
  {
   "cell_type": "code",
   "execution_count": 5,
   "metadata": {},
   "outputs": [
    {
     "name": "stdout",
     "output_type": "stream",
     "text": [
      "/home/tonyfast/Documents/tingle/tingle/testmd.md\n"
     ]
    },
    {
     "data": {
      "text/markdown": [
       "# sample document of `tingle` syntaxes.\n",
       "\n",
       "`tingle` transforms markdown to python according to the relative position of the code blocks. this document describes the formations between code and _non_code blocks.\n",
       "\n",
       "the most basic conformation are complete python statements and expressions with markdown narrative woven in between. under these conditions the code and _non_code do not interact.\n",
       "\n",
       "        # state writing the program here\n",
       "        import tingle\n",
       "        [\"xo\"[i%2] for i in range(10)]\n",
       "\n",
       "this is a basic case that happes commonly when describing scripts. `tingle` affords abilities where code and _non_code can interact.\n",
       "\n",
       "## using markdown as strings\n",
       "\n",
       "        blocks_of_narrative =\\\n",
       "\n",
       "are defined as variables using lines continuations.\n",
       "\n",
       "        ...\n",
       "        >>> blocks_of_narrative\n",
       "        \"are defined as variables using lines continuations.\"\n",
       "\n",
       "blocks string can be defined explicitly.\n",
       "\n",
       "        explicit_block = \"\"\"\n",
       "        \n",
       "the body of markdown is wrapped in a block string that can be operated on.\n",
       "        \n",
       "        \"\"\".upper()\n",
       "\n",
       "        tight_explicit_block = \"\"\"\\\n",
       "        \n",
       "the body of markdown is wrapped in a block string that can be operated on.\\\n",
       "        \n",
       "        \"\"\".upper()\n",
       "\n",
       "        tight_paren_block = (\n",
       "        \n",
       "the body of markdown is wrapped in a block string that can be operated on.\\\n",
       "        \n",
       "        )  \n",
       "\n",
       "## block statements\n",
       "\n",
       "`tingle` handles indentations for python code relative block statements and expressions.\n",
       "\n",
       "        def a_noop_function():\n",
       "retains the following markdown and doctests as the docstring for the preceeding function defintion.\n",
       "\n",
       "        def a_useful_function():\n",
       "retains the following markdown and doctests as the docstring for the preceeding function defintion. the identation can be guided by the body of the function.\n",
       "\n",
       "                    \"this is a big indent\"\n",
       "\n",
       "but the interleaved strings are indented according to the `tingle` heuristics.\n",
       "\n",
       "        class AClass:\n",
       "\n",
       "definition also retains following narrative as the docstring.\n",
       "\n",
       "                def for_nested_methods(self):\n",
       "\n",
       "the narrative is indented and represents a more complicated `tingle` syntax that returns the formatted body of the narrative\n",
       "\n",
       "                        return \n",
       "\n",
       "\n",
       "        if __name__ == '__main__':\n",
       "\n",
       "test the defined docstrings.\n",
       "\n",
       "                import doctest\n",
       "                print(doctest.testmod())"
      ],
      "text/plain": [
       "<IPython.core.display.Markdown object>"
      ]
     },
     "metadata": {},
     "output_type": "display_data"
    }
   ],
   "source": [
    "    tingle.testmd"
   ]
  },
  {
   "cell_type": "markdown",
   "metadata": {},
   "source": [
    "    vars(tingle.testmd)"
   ]
  },
  {
   "cell_type": "code",
   "execution_count": 2,
   "metadata": {},
   "outputs": [
    {
     "data": {
      "text/plain": [
       "<_ast.Module at 0x7fe978d47650>"
      ]
     },
     "execution_count": 2,
     "metadata": {},
     "output_type": "execute_result"
    }
   ],
   "source": [
    "    λ['tingle'][Λ.__file__()].Path()[Λ.parent() / \"testmd.md\"].read_text()['tingle.python.md2py']['ast.parse']()"
   ]
  },
  {
   "cell_type": "code",
   "execution_count": 303,
   "metadata": {},
   "outputs": [],
   "source": [
    "    import toml"
   ]
  },
  {
   "cell_type": "code",
   "execution_count": 311,
   "metadata": {},
   "outputs": [],
   "source": [
    "    import yaml"
   ]
  },
  {
   "cell_type": "code",
   "execution_count": 316,
   "metadata": {},
   "outputs": [
    {
     "data": {
      "text/plain": [
       "{'a': 'testing this thing'}"
      ]
     },
     "execution_count": 316,
     "metadata": {},
     "output_type": "execute_result"
    }
   ],
   "source": [
    "    yaml.safe_load(\"\"\"\n",
    "    \n",
    "            a: \n",
    "                testing\n",
    "                this thing\n",
    "    \n",
    "    \"\"\")"
   ]
  },
  {
   "cell_type": "code",
   "execution_count": 317,
   "metadata": {},
   "outputs": [],
   "source": [
    "    def continue_lead(object, indent=0, *, body=\"\", continuing=True):\n",
    "        non_empty = False\n",
    "        for line in object.splitlines(True):\n",
    "            empty = not line.strip()\n",
    "            if empty:\n",
    "                body += (' '*indent + \"\\\\\"  if continuing else \"\") + line\n",
    "            else:\n",
    "                continuing = line.rstrip().endswith(\"\\\\\")\n",
    "                body += line\n",
    "                            \n",
    "            return body"
   ]
  },
  {
   "cell_type": "code",
   "execution_count": 310,
   "metadata": {},
   "outputs": [
    {
     "data": {
      "text/plain": [
       "{'crap': 'line'}"
      ]
     },
     "execution_count": 310,
     "metadata": {},
     "output_type": "execute_result"
    }
   ],
   "source": [
    "    toml.loads(\"\"\"\n",
    "    crap = \\\n",
    "    \\\n",
    "    \"line\"\n",
    "    \n",
    "    \n",
    "    \"\"\")"
   ]
  },
  {
   "cell_type": "code",
   "execution_count": 298,
   "metadata": {},
   "outputs": [],
   "source": [
    "    \"\"\"Tangle code to python.\"\"\"\n",
    "\n",
    "    import textwrap\n",
    "    import functools\n",
    "\n",
    "    import tingle\n",
    "    QUOTES = \"'''\", '\"\"\"'\n",
    "\n",
    "    def dedent(str):\n",
    "        \"\"\"Dedent a block of non code.\"\"\"\n",
    "        str = textwrap.dedent(str)\n",
    "        lines = str.splitlines(True)\n",
    "        for i, line in enumerate(lines):\n",
    "            if line.strip():\n",
    "                lines[i] = textwrap.dedent(line)\n",
    "                break\n",
    "        return \"\".join(lines)\n",
    "\n",
    "    def quote(str, trailing=''):\n",
    "        \"\"\"Wrap a truple block quotations.\"\"\"\n",
    "        quote, length = QUOTES[QUOTES[0] in str], len(str)\n",
    "        left, right = length - len(str.lstrip()), len(str.rstrip())\n",
    "        if not str[left:right].strip():\n",
    "            return str\n",
    "        if str[right-1] == '\\\\':\n",
    "            while str[right-1] == '\\\\':\n",
    "                right -= 1\n",
    "        else:\n",
    "            if str[left:right].endswith(quote[0]):\n",
    "                quote = {\"'''\": '\"\"\"', '\"\"\"': \"'''\"}[quote]\n",
    "        return str[:left] + quote + str[left:right] + quote + trailing + str[right:]\n",
    "\n",
    "\n",
    "    def leading_indent(str):\n",
    "        \"\"\"Count the lead indent of a string\"\"\"\n",
    "        if not isinstance(str, list):\n",
    "            str = str.splitlines(True)\n",
    "        for line in str:\n",
    "            if line.strip():\n",
    "                return len(line) - len(line.lstrip())\n",
    "        return 0\n",
    "\n",
    "\n",
    "    def trailing_indent(str):\n",
    "        \"\"\"Count the lead indent of a string\"\"\"\n",
    "        if not isinstance(str, list):\n",
    "            str = str.splitlines(True)\n",
    "        for line in reversed(str):\n",
    "            if line.strip():\n",
    "                return len(line) - len(line.lstrip())\n",
    "        return 0\n",
    "\n",
    "\n",
    "    def filter_literal_blocks(document):\n",
    "        for node in document.traverse():\n",
    "            if node.tagname == 'literal_block' and node.attributes.get('language', \"\") in {\"none\", \"\"}:\n",
    "                yield node\n",
    "\n",
    "\n",
    "    def hanging_indent(str, extra_indent):\n",
    "        start = len(str)-len(str.lstrip())\n",
    "        return str[:start] + ' ' * extra_indent + str[start:]\n",
    "\n",
    "\n",
    "    def md2py(object, parser=tingle.md.md2docutils):\n",
    "        \"\"\"convert text to python using docutils as an intermediate.\"\"\"\n",
    "        lines = object.splitlines(True)\n",
    "        body = \"\"\"\"\"\"\n",
    "        least_indent, ending_indent, prior_indent, extra_indent = 0, 0, 0, 0\n",
    "        continued, quoted = False, False\n",
    "        start_line, prior_line, end = 0, 0, len(lines)\n",
    "        tokens = list(filter_literal_blocks(parser(object)))\n",
    "        for i, node in enumerate(tokens):\n",
    "            start_line = node.line\n",
    "\n",
    "            if node.attributes.get('language', \"none\") == \"none\":\n",
    "                start_line -= 1\n",
    "                \n",
    "            # get noncode block\n",
    "            noncode = ''.join(lines[prior_line:start_line])\n",
    "            noncode = dedent(noncode)\n",
    "\n",
    "            # get code block\n",
    "            end_line = start_line + len(node.rawsource.splitlines())\n",
    "            \n",
    "            code = ''.join(lines[start_line:end_line])\n",
    "            if node.attributes.get('language', None) == \"\":\n",
    "                code = textwrap.indent(code, ' '*4)\n",
    "\n",
    "            this_indent = leading_indent(code) - least_indent\n",
    "            if not least_indent:\n",
    "                # this is base indent for the entire block\n",
    "                least_indent = this_indent\n",
    "                \n",
    "\n",
    "            if noncode.strip():\n",
    "                # indent the code relative to the prior indents \n",
    "                noncode = hanging_indent(noncode, max(ending_indent + extra_indent, this_indent))\n",
    "                noncode = textwrap.indent(noncode, \" \"*least_indent)\n",
    "\n",
    "                # quote the noncode\n",
    "                if not quoted:\n",
    "                    noncode = quote(noncode, trailing=';' if node is None else '')\n",
    "            body += noncode + code\n",
    "            \n",
    "            # update the line numbers and indents\n",
    "            prior_line, prior_indent = end_line, ending_indent\n",
    "            \n",
    "            ending_indent = trailing_indent(code) - least_indent\n",
    "            extra_indent = 4*code.rstrip().endswith(':')\n",
    "            \n",
    "\n",
    "        noncode = ''.join(lines[prior_line:len(lines)])\n",
    "        noncode = hanging_indent(noncode, ending_indent + extra_indent)\n",
    "        noncode = textwrap.indent(noncode, \" \"*least_indent)\n",
    "        \n",
    "        body += quote(noncode, \";\")\n",
    "        return textwrap.dedent(body)\n",
    "\n",
    "\n",
    "    rst2py = functools.partial(md2py, parser=tingle.rst.rst2docutils)\n"
   ]
  },
  {
   "cell_type": "code",
   "execution_count": 301,
   "metadata": {},
   "outputs": [],
   "source": [
    "    import tingle\n",
    "\n",
    "    sample = \"\"\"        \n",
    "        def g():\n",
    "        \n",
    "        >>> 1\n",
    "        1\n",
    "        \n",
    "    some stuff\n",
    "    \n",
    "        def f():\n",
    "    ## Testing this out\n",
    "    \n",
    "    Any system messages dont matter because we just need the line numbers for code\n",
    "    \n",
    "                            print\n",
    "        \n",
    "    ```\n",
    "    range\n",
    "    ```\n",
    "    \n",
    "        class X:\n",
    "    ```nah\n",
    "    11\n",
    "    ```\n",
    "        \n",
    "            def f(x): \n",
    "            \n",
    "    mr grapes\n",
    "    \"\"\""
   ]
  },
  {
   "cell_type": "code",
   "execution_count": 302,
   "metadata": {},
   "outputs": [
    {
     "name": "stdout",
     "output_type": "stream",
     "text": [
      "\n",
      "def g():\n",
      "\n",
      "    '''>>> 1\n",
      "    1\n",
      "\n",
      "some stuff'''\n",
      "\n",
      "def f():\n",
      "                    '''## Testing this out\n",
      "\n",
      "Any system messages dont matter because we just need the line numbers for code'''\n",
      "\n",
      "                    print\n",
      "\n",
      "                    '''```'''\n",
      "range\n",
      "'''```'''\n",
      "\n",
      "class X:\n",
      "    '''```nah\n",
      "11\n",
      "```'''\n",
      "\n",
      "    def f(x): \n",
      "\n",
      "        '''mr grapes''';\n",
      "\n"
     ]
    },
    {
     "name": "stderr",
     "output_type": "stream",
     "text": [
      "notset:10: (WARNING/2) Non-consecutive header level increase; 0 to 2\n"
     ]
    }
   ],
   "source": [
    "    print(md2py(sample))"
   ]
  },
  {
   "cell_type": "code",
   "execution_count": 277,
   "metadata": {},
   "outputs": [
    {
     "name": "stdout",
     "output_type": "stream",
     "text": [
      "[<literal_block: <#text: 'print\\ndef f():'>>]\n",
      "'''nothing\n",
      "::'''\n",
      "\n",
      "print\n",
      "def f():\n",
      "\n",
      "    '''no\n",
      "\n",
      "        >>> 1\n",
      "        1''';\n",
      "\n",
      "\n"
     ]
    }
   ],
   "source": [
    "    print(tingle.python.rst2py(\"\"\"nothing\n",
    "    ::\n",
    "            \n",
    "            print\n",
    "            def f():\n",
    "            \n",
    "    no\n",
    "    \n",
    "        >>> 1\n",
    "        1\n",
    "            \n",
    "    \"\"\"))"
   ]
  },
  {
   "cell_type": "code",
   "execution_count": null,
   "metadata": {},
   "outputs": [],
   "source": []
  },
  {
   "cell_type": "code",
   "execution_count": null,
   "metadata": {},
   "outputs": [],
   "source": []
  }
 ],
 "metadata": {
  "kernelspec": {
   "display_name": "Python 3",
   "language": "python",
   "name": "python3"
  },
  "language_info": {
   "codemirror_mode": {
    "name": "ipython",
    "version": 3
   },
   "file_extension": ".py",
   "mimetype": "text/x-python",
   "name": "python",
   "nbconvert_exporter": "python",
   "pygments_lexer": "ipython3",
   "version": "3.7.7"
  }
 },
 "nbformat": 4,
 "nbformat_minor": 4
}
